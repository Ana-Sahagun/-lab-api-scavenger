{
 "cells": [
  {
   "cell_type": "markdown",
   "metadata": {},
   "source": [
    "Obtain the full list of forks created from the main lab repo via Github API."
   ]
  },
  {
   "cell_type": "code",
   "execution_count": null,
   "metadata": {},
   "outputs": [],
   "source": [
    "import requests\n",
    "from opnieuw import retry\n",
    "from requests.exceptions import ConnectionError, HTTPError\n",
    "import keyring\n",
    "\n",
    "@retry(\n",
    "  retry_on_exceptions=(ConnectionError, HTTPError),\n",
    "  max_calls_total=4,\n",
    "  retry_window_after_first_call_in_seconds=60,\n",
    ")\n",
    "def get_forks(username='ironhack-datalabs', repository='bcn-feb-2019'):\n",
    "  url= f\"https://api.github.com/repos/{username}/{repository}/forks\"\n",
    "  payload = {}\n",
    "  headers = {\n",
    "    'Accept': 'application/vnd.github+json',\n",
    "    'X-GitHub-Api-Version': '2022-11-28',\n",
    "    'Authorization': f'token {keyring.get_password(\"GitHub\", \"APIKey\")}'\n",
    "  }\n",
    "\n",
    "  response = requests.request(\"GET\", url, headers=headers, data=payload, timeout=10)\n",
    "\n",
    "  if response.status_code == 200:\n",
    "    return response.json()\n",
    "  else:\n",
    "    print(f'Error.status_code {response.status_code}')\n"
   ]
  },
  {
   "cell_type": "code",
   "execution_count": null,
   "metadata": {},
   "outputs": [],
   "source": [
    "forks=get_forks()"
   ]
  },
  {
   "cell_type": "code",
   "execution_count": null,
   "metadata": {},
   "outputs": [],
   "source": [
    "forks"
   ]
  },
  {
   "cell_type": "code",
   "execution_count": null,
   "metadata": {},
   "outputs": [],
   "source": [
    "import pandas as pd"
   ]
  },
  {
   "cell_type": "code",
   "execution_count": null,
   "metadata": {},
   "outputs": [],
   "source": [
    "df = pd.DataFrame(forks)"
   ]
  },
  {
   "cell_type": "code",
   "execution_count": null,
   "metadata": {},
   "outputs": [],
   "source": [
    "df"
   ]
  },
  {
   "cell_type": "markdown",
   "metadata": {},
   "source": [
    "Loop the JSON response to find out the language attribute of each fork. Use an array to store the language attributes of each fork."
   ]
  },
  {
   "cell_type": "code",
   "execution_count": null,
   "metadata": {},
   "outputs": [],
   "source": [
    "df.head()"
   ]
  },
  {
   "cell_type": "code",
   "execution_count": null,
   "metadata": {},
   "outputs": [],
   "source": [
    "languages = set()\n",
    "\n",
    "for index, row in df.iterrows():\n",
    "    if row['language']:\n",
    "        languages.add(row['language'])"
   ]
  },
  {
   "cell_type": "code",
   "execution_count": null,
   "metadata": {},
   "outputs": [],
   "source": [
    "languages"
   ]
  },
  {
   "cell_type": "code",
   "execution_count": null,
   "metadata": {},
   "outputs": [],
   "source": [
    "df['language']"
   ]
  },
  {
   "cell_type": "code",
   "execution_count": null,
   "metadata": {},
   "outputs": [],
   "source": [
    "df.columns.tolist()"
   ]
  },
  {
   "cell_type": "code",
   "execution_count": null,
   "metadata": {},
   "outputs": [],
   "source": [
    "listadoIdiomas = df['language'].unique()\n",
    "    "
   ]
  },
  {
   "cell_type": "code",
   "execution_count": null,
   "metadata": {},
   "outputs": [],
   "source": [
    "listadoIdiomas"
   ]
  },
  {
   "cell_type": "code",
   "execution_count": null,
   "metadata": {},
   "outputs": [],
   "source": [
    "listadoIdiomas2 = df['languages_url'].unique()"
   ]
  },
  {
   "cell_type": "code",
   "execution_count": null,
   "metadata": {},
   "outputs": [],
   "source": [
    "listadoIdiomas2"
   ]
  },
  {
   "cell_type": "markdown",
   "metadata": {},
   "source": [
    "ej 3"
   ]
  },
  {
   "cell_type": "code",
   "execution_count": null,
   "metadata": {},
   "outputs": [],
   "source": [
    "@retry(\n",
    "  retry_on_exceptions=(ConnectionError, HTTPError),\n",
    "  max_calls_total=4,\n",
    "  retry_window_after_first_call_in_seconds=60,\n",
    ")\n",
    "def get_commits(username='ironhack-datalabs', repository='bcn-feb-2019'):\n",
    "  url= f\"https://api.github.com/repos/{username}/{repository}/commits\"\n",
    "  payload = {}\n",
    "  headers = {\n",
    "    'Accept': 'application/vnd.github+json',\n",
    "    'X-GitHub-Api-Version': '2022-11-28',\n",
    "    'Authorization': f'token {keyring.get_password(\"GitHub\", \"APIKey\")}'\n",
    "  }\n",
    "\n",
    "  response = requests.request(\"GET\", url, headers=headers, data=payload, timeout=10)\n",
    "\n",
    "  if response.status_code == 200:\n",
    "    return response.json()\n",
    "  else:\n",
    "    print(f'Error.status_code {response.status_code}')"
   ]
  },
  {
   "cell_type": "code",
   "execution_count": null,
   "metadata": {},
   "outputs": [],
   "source": [
    "get_commits('ta-data-pt-rmt', 'lab-mysql-first-queries')"
   ]
  },
  {
   "cell_type": "code",
   "execution_count": null,
   "metadata": {},
   "outputs": [],
   "source": [
    "commits=get_commits('ta-data-pt-rmt', 'lab-mysql-first-queries')"
   ]
  },
  {
   "cell_type": "code",
   "execution_count": null,
   "metadata": {},
   "outputs": [],
   "source": [
    "df1 = pd.DataFrame(commits)"
   ]
  },
  {
   "cell_type": "code",
   "execution_count": null,
   "metadata": {},
   "outputs": [],
   "source": [
    "df1"
   ]
  },
  {
   "cell_type": "markdown",
   "metadata": {},
   "source": [
    "Con la shape ya tendríamos el numero de filas df y por tanto el numero de objetos."
   ]
  },
  {
   "cell_type": "code",
   "execution_count": null,
   "metadata": {},
   "outputs": [],
   "source": [
    "df1.shape"
   ]
  }
 ],
 "metadata": {
  "kernelspec": {
   "display_name": "Python 3",
   "language": "python",
   "name": "python3"
  },
  "language_info": {
   "codemirror_mode": {
    "name": "ipython",
    "version": 3
   },
   "file_extension": ".py",
   "mimetype": "text/x-python",
   "name": "python",
   "nbconvert_exporter": "python",
   "pygments_lexer": "ipython3",
   "version": "3.11.1"
  }
 },
 "nbformat": 4,
 "nbformat_minor": 2
}
